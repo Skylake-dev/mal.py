{
 "cells": [
  {
   "cell_type": "code",
   "execution_count": 31,
   "metadata": {},
   "outputs": [],
   "source": [
    "from mal import client\n",
    "\n",
    "# store your client id in a separate file and keep it secret\n",
    "with open('.env', 'r') as f:\n",
    "    client_id = f.readline()\n",
    "\n",
    "# create a client using your client_id\n",
    "cli = client.Client(client_id)"
   ]
  },
  {
   "cell_type": "code",
   "execution_count": 32,
   "metadata": {},
   "outputs": [],
   "source": [
    "# you can search anime and manga given a keyword\n",
    "results = cli.anime_search('one piece')"
   ]
  },
  {
   "cell_type": "code",
   "execution_count": 33,
   "metadata": {},
   "outputs": [
    {
     "name": "stdout",
     "output_type": "stream",
     "text": [
      "One Piece Movie 01\n",
      "One Piece Film: Gold\n",
      "One Piece Film: Z\n",
      "One Piece\n",
      "One Piece Movie 14: Stampede\n",
      "One Piece 3D: Mugiwara Chase\n",
      "One Piece Film: Strong World\n",
      "One Piece Film: Red\n",
      "One Piece: Episode of Merry - Mou Hitori no Nakama no Monogatari\n",
      "One Piece: Adventure of Nebulandia\n"
     ]
    }
   ],
   "source": [
    "# quickly inspect the results\n",
    "print(results)"
   ]
  },
  {
   "cell_type": "code",
   "execution_count": 34,
   "metadata": {},
   "outputs": [],
   "source": [
    "# as you can see, by default only 10 results are returned, you can specify more\n",
    "# by setting a limit in the client or using the corresponding argument in the search\n",
    "\n",
    "cli.limit = 30  # global search limit\n",
    "results = cli.anime_search('one piece', limit=20) # for this search only, overrides global limit"
   ]
  },
  {
   "cell_type": "code",
   "execution_count": 35,
   "metadata": {},
   "outputs": [
    {
     "name": "stdout",
     "output_type": "stream",
     "text": [
      "One Piece Movie 01\n",
      "One Piece Film: Gold\n",
      "One Piece Film: Z\n",
      "One Piece\n",
      "One Piece Movie 14: Stampede\n",
      "One Piece 3D: Mugiwara Chase\n",
      "One Piece Film: Strong World\n",
      "One Piece Film: Red\n",
      "One Piece: Episode of Merry - Mou Hitori no Nakama no Monogatari\n",
      "One Piece: Adventure of Nebulandia\n",
      "The One Piece\n",
      "One Piece Movie 04: Dead End no Bouken\n",
      "One Piece Movie 09: Episode of Chopper Plus - Fuyu ni Saku, Kiseki no Sakura\n",
      "One Piece Movie 03: Chinjuu-jima no Chopper Oukoku\n",
      "One Piece Movie 02: Nejimaki-jima no Daibouken\n",
      "One Piece 3D2Y: Ace no shi wo Koete! Luffy Nakama Tono Chikai\n",
      "One Piece Movie 05: Norowareta Seiken\n",
      "One Piece Movie 06: Omatsuri Danshaku to Himitsu no Shima\n",
      "One Piece: Episode of Luffy - Hand Island no Bouken\n",
      "One Piece: Episode of East Blue - Luffy to 4-nin no Nakama no Daibouken\n"
     ]
    }
   ],
   "source": [
    "print(results)"
   ]
  },
  {
   "cell_type": "code",
   "execution_count": 36,
   "metadata": {},
   "outputs": [],
   "source": [
    "# for each result only some fields are requested, you can specify them in the\n",
    "# same way that was shown in basic.ipynb\n",
    "results = cli.manga_search('made in abyss', limit=3, fields=['mean'])"
   ]
  },
  {
   "cell_type": "code",
   "execution_count": 37,
   "metadata": {},
   "outputs": [
    {
     "name": "stdout",
     "output_type": "stream",
     "text": [
      "Made in Abyss - mean score: 8.76\n",
      "Made in Abyss: Koushiki Anthology - mean score: 7.38\n",
      "Shounen no Abyss - mean score: 7.36\n"
     ]
    }
   ],
   "source": [
    "for result in results:\n",
    "    print(f'{result.title} - mean score: {result.mean}')"
   ]
  },
  {
   "cell_type": "code",
   "execution_count": 38,
   "metadata": {},
   "outputs": [
    {
     "name": "stdout",
     "output_type": "stream",
     "text": [
      "Abyss\n",
      "Abyss Rage\n"
     ]
    }
   ],
   "source": [
    "# results are paginated, you can check the next page with\n",
    "page_two = cli.next_page(results)\n",
    "# all objects that represent a list of result (ranking, animelist, search results)\n",
    "# can return paginated results if the size exceed the limit that was given\n",
    "assert page_two is not None\n",
    "print(page_two)"
   ]
  },
  {
   "cell_type": "code",
   "execution_count": 39,
   "metadata": {},
   "outputs": [
    {
     "name": "stdout",
     "output_type": "stream",
     "text": [
      "Made in Abyss\n",
      "Made in Abyss: Koushiki Anthology\n",
      "Shounen no Abyss\n"
     ]
    }
   ],
   "source": [
    "# and go back to the previous, se that they are the same as results\n",
    "page_one = cli.previous_page(page_two)\n",
    "print(page_one)"
   ]
  }
 ],
 "metadata": {
  "interpreter": {
   "hash": "daa9e572b3a9cd27e1902dec2d103053a96a86e9a25f9b818156a8bc4891f54f"
  },
  "kernelspec": {
   "display_name": "Python 3.9.2 ('.venv': venv)",
   "language": "python",
   "name": "python3"
  },
  "language_info": {
   "codemirror_mode": {
    "name": "ipython",
    "version": 3
   },
   "file_extension": ".py",
   "mimetype": "text/x-python",
   "name": "python",
   "nbconvert_exporter": "python",
   "pygments_lexer": "ipython3",
   "version": "3.12.0"
  },
  "orig_nbformat": 4
 },
 "nbformat": 4,
 "nbformat_minor": 2
}
