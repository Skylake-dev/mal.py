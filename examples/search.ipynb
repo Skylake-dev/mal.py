{
 "cells": [
  {
   "cell_type": "code",
   "execution_count": 4,
   "metadata": {},
   "outputs": [],
   "source": [
    "from mal import client\n",
    "\n",
    "# store your client id in a separate file and keep it secret\n",
    "with open('.env', 'r') as f:\n",
    "    client_id = f.readline()\n",
    "\n",
    "# create a client using your client_id\n",
    "cli = client.Client(client_id)"
   ]
  },
  {
   "cell_type": "code",
   "execution_count": 5,
   "metadata": {},
   "outputs": [],
   "source": [
    "# you can search anime and manga given a keyword\n",
    "results = cli.anime_search('one piece')"
   ]
  },
  {
   "cell_type": "code",
   "execution_count": 6,
   "metadata": {},
   "outputs": [
    {
     "name": "stdout",
     "output_type": "stream",
     "text": [
      "One Piece Movie 01\n",
      "One Piece Film: Z\n",
      "One Piece Film: Gold\n",
      "One Piece\n",
      "One Piece Movie 14: Stampede\n",
      "One Piece 3D: Mugiwara Chase\n",
      "One Piece Film: Strong World\n",
      "One Piece Movie 04: Dead End no Bouken\n",
      "One Piece Movie 09: Episode of Chopper Plus - Fuyu ni Saku, Kiseki no Sakura\n",
      "One Piece: Adventure of Nebulandia\n"
     ]
    }
   ],
   "source": [
    "# quickly inspect the results\n",
    "print(results)"
   ]
  },
  {
   "cell_type": "code",
   "execution_count": 7,
   "metadata": {},
   "outputs": [],
   "source": [
    "# as you can see, by default only 10 results are returned, you can specify more\n",
    "# by setting a limit in the client or using the corresponding argument in the search\n",
    "\n",
    "cli.search_limit = 30  # global search limit\n",
    "results = cli.anime_search('one piece', limit=20) # for this search only, overrides global limit"
   ]
  },
  {
   "cell_type": "code",
   "execution_count": 8,
   "metadata": {},
   "outputs": [
    {
     "name": "stdout",
     "output_type": "stream",
     "text": [
      "One Piece Movie 01\n",
      "One Piece Film: Z\n",
      "One Piece Film: Gold\n",
      "One Piece\n",
      "One Piece Movie 14: Stampede\n",
      "One Piece 3D: Mugiwara Chase\n",
      "One Piece Film: Strong World\n",
      "One Piece Movie 04: Dead End no Bouken\n",
      "One Piece Movie 09: Episode of Chopper Plus - Fuyu ni Saku, Kiseki no Sakura\n",
      "One Piece: Adventure of Nebulandia\n",
      "One Piece Movie 03: Chinjuu-jima no Chopper Oukoku\n",
      "One Piece Film: Red\n",
      "One Piece Movie 02: Nejimaki-jima no Daibouken\n",
      "One Piece Movie 05: Norowareta Seiken\n",
      "One Piece Movie 06: Omatsuri Danshaku to Himitsu no Shima\n",
      "One Piece 3D2Y: Ace no shi wo Koete! Luffy Nakama Tono Chikai\n",
      "One Piece: Episode of Merry - Mou Hitori no Nakama no Monogatari\n",
      "One Piece: Episode of Luffy - Hand Island no Bouken\n",
      "One Piece: Episode of East Blue - Luffy to 4-nin no Nakama no Daibouken\n",
      "One Piece Movie 07: Karakuri-jou no Mecha Kyohei\n"
     ]
    }
   ],
   "source": [
    "print(results)"
   ]
  },
  {
   "cell_type": "code",
   "execution_count": 10,
   "metadata": {},
   "outputs": [],
   "source": [
    "# for each result only some fields are requested, you can specify them in the\n",
    "# same way that was shown in basic.ipynb\n",
    "results = cli.manga_search('made in abyss', limit=3, fields=['mean'])"
   ]
  },
  {
   "cell_type": "code",
   "execution_count": 12,
   "metadata": {},
   "outputs": [
    {
     "name": "stdout",
     "output_type": "stream",
     "text": [
      "Made in Abyss - mean score: 8.8\n",
      "Made in Abyss: Koushiki Anthology - mean score: 7.12\n",
      "Shounen no Abyss - mean score: 7.49\n"
     ]
    }
   ],
   "source": [
    "for result in results:\n",
    "    print(f'{result.title} - mean score: {result.mean}')"
   ]
  }
 ],
 "metadata": {
  "interpreter": {
   "hash": "daa9e572b3a9cd27e1902dec2d103053a96a86e9a25f9b818156a8bc4891f54f"
  },
  "kernelspec": {
   "display_name": "Python 3.9.2 ('.venv': venv)",
   "language": "python",
   "name": "python3"
  },
  "language_info": {
   "codemirror_mode": {
    "name": "ipython",
    "version": 3
   },
   "file_extension": ".py",
   "mimetype": "text/x-python",
   "name": "python",
   "nbconvert_exporter": "python",
   "pygments_lexer": "ipython3",
   "version": "3.9.2"
  },
  "orig_nbformat": 4
 },
 "nbformat": 4,
 "nbformat_minor": 2
}
