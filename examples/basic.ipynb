{
 "cells": [
  {
   "cell_type": "code",
   "execution_count": 3,
   "metadata": {},
   "outputs": [],
   "source": [
    "from mal import client"
   ]
  },
  {
   "cell_type": "code",
   "execution_count": 4,
   "metadata": {},
   "outputs": [],
   "source": [
    "# store your client id in a separate file and keep it secret\n",
    "with open('.env', 'r') as f:\n",
    "    client_id = f.readline()"
   ]
  },
  {
   "cell_type": "code",
   "execution_count": 5,
   "metadata": {},
   "outputs": [],
   "source": [
    "# create a client using your client_id\n",
    "cli = client.Client(client_id)"
   ]
  },
  {
   "cell_type": "code",
   "execution_count": 6,
   "metadata": {},
   "outputs": [
    {
     "data": {
      "text/plain": [
       "'Shingeki no Kyojin'"
      ]
     },
     "execution_count": 6,
     "metadata": {},
     "output_type": "execute_result"
    }
   ],
   "source": [
    "# request information on an anime given its id\n",
    "anime = cli.get_anime(16498)\n",
    "\n",
    "# can also request using a link to its page\n",
    "anime = cli.get_anime('https://myanimelist.net/anime/16498/Shingeki_no_Kyojin')\n",
    "anime.title"
   ]
  },
  {
   "cell_type": "code",
   "execution_count": 7,
   "metadata": {},
   "outputs": [
    {
     "data": {
      "text/plain": [
       "[<Field.status: 'status'>,\n",
       " <Field.media_type: 'media_type'>,\n",
       " <Field.genres: 'genres'>,\n",
       " <Field.mean: 'mean'>,\n",
       " <Field.status: 'status'>,\n",
       " <Field.num_episodes: 'num_episodes'>,\n",
       " <Field.start_season: 'start_season'>,\n",
       " <Field.broadcast: 'broadcast'>,\n",
       " <Field.source: 'source'>]"
      ]
     },
     "execution_count": 7,
     "metadata": {},
     "output_type": "execute_result"
    }
   ],
   "source": [
    "# by default not all fields are requested, you can check with\n",
    "cli.anime_fields"
   ]
  },
  {
   "cell_type": "code",
   "execution_count": 8,
   "metadata": {},
   "outputs": [],
   "source": [
    "# you can change which fields are requested globally or on a per-request basis\n",
    "from mal.enums import Field\n",
    "\n",
    "# change globally for all next manga requests\n",
    "# you can use a pre-defined set of fields, or choose your own\n",
    "cli.manga_fields = Field.all_manga()\n",
    "cli.manga_fields = [\n",
    "    Field.authors,\n",
    "    Field.alternative_titles,\n",
    "    Field.genres\n",
    "]"
   ]
  },
  {
   "cell_type": "code",
   "execution_count": 9,
   "metadata": {},
   "outputs": [
    {
     "data": {
      "text/plain": [
       "[<Field.authors: 'authors'>,\n",
       " <Field.genres: 'genres'>,\n",
       " <Field.mean: 'mean'>,\n",
       " <Field.rank: 'rank'>]"
      ]
     },
     "execution_count": 9,
     "metadata": {},
     "output_type": "execute_result"
    }
   ],
   "source": [
    "# you can also use strings, they will be automatically converted\n",
    "cli.manga_fields = [\n",
    "    'authors',\n",
    "    'genres',\n",
    "    'mean',\n",
    "    'rank',\n",
    "]\n",
    "cli.manga_fields"
   ]
  },
  {
   "cell_type": "code",
   "execution_count": 10,
   "metadata": {},
   "outputs": [],
   "source": [
    "# change fields for a specific request\n",
    "# request all possible fields\n",
    "anime = cli.get_anime(16498, fields=Field.all_anime())"
   ]
  },
  {
   "cell_type": "code",
   "execution_count": 11,
   "metadata": {},
   "outputs": [
    {
     "name": "stdout",
     "output_type": "stream",
     "text": [
      "Side story: Shingeki no Kyojin OVA\n",
      "Summary: Shingeki no Kyojin: Ano Hi Kara, Shingeki no Kyojin: Chronicle\n",
      "Other: Shingeki no Kyojin Picture Drama, Shingeki no Kyotou\n",
      "Alternative version: Shingeki no Kyojin Movie 1: Guren no Yumiya, Shingeki no Kyojin Movie 2: Jiyuu no Tsubasa\n",
      "Sequel: Shingeki no Kyojin Season 2\n",
      "Spin-off: Shingeki no Kyojin: Kuinaki Sentaku, Shingeki! Kyojin Chuugakkou, Shingeki no Kyojin: Lost Girls\n",
      "Character: Snickers x Shingeki no Kyojin\n",
      "\n"
     ]
    }
   ],
   "source": [
    "# now you can use all the fields\n",
    "print(anime.related_anime)"
   ]
  },
  {
   "cell_type": "code",
   "execution_count": 12,
   "metadata": {},
   "outputs": [
    {
     "name": "stdout",
     "output_type": "stream",
     "text": [
      "Koutetsujou no Kabaneri - recommended by 104 people.\n",
      "Owari no Seraph - recommended by 51 people.\n",
      "Yakusoku no Neverland - recommended by 49 people.\n",
      "Black Bullet - recommended by 46 people.\n",
      "Tokyo Ghoul - recommended by 42 people.\n",
      "Fullmetal Alchemist: Brotherhood - recommended by 39 people.\n",
      "Sidonia no Kishi - recommended by 37 people.\n",
      "Claymore - recommended by 32 people.\n",
      "God Eater - recommended by 32 people.\n",
      "Aldnoah.Zero - recommended by 30 people.\n",
      "\n"
     ]
    }
   ],
   "source": [
    "print(anime.recommendations)"
   ]
  }
 ],
 "metadata": {
  "interpreter": {
   "hash": "daa9e572b3a9cd27e1902dec2d103053a96a86e9a25f9b818156a8bc4891f54f"
  },
  "kernelspec": {
   "display_name": "Python 3.9.2 ('.venv': venv)",
   "language": "python",
   "name": "python3"
  },
  "language_info": {
   "codemirror_mode": {
    "name": "ipython",
    "version": 3
   },
   "file_extension": ".py",
   "mimetype": "text/x-python",
   "name": "python",
   "nbconvert_exporter": "python",
   "pygments_lexer": "ipython3",
   "version": "3.9.7"
  },
  "orig_nbformat": 4
 },
 "nbformat": 4,
 "nbformat_minor": 2
}
